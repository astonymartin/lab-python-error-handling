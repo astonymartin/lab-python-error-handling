{
 "cells": [
  {
   "cell_type": "markdown",
   "id": "25d7736c-ba17-4aff-b6bb-66eba20fbf4e",
   "metadata": {},
   "source": [
    "# Lab | Error Handling"
   ]
  },
  {
   "cell_type": "markdown",
   "id": "bc99b386-7508-47a0-bcdb-d969deaf6c8b",
   "metadata": {},
   "source": [
    "## Exercise: Error Handling for Managing Customer Orders\n",
    "\n",
    "The implementation of your code for managing customer orders assumes that the user will always enter a valid input. \n",
    "\n",
    "For example, we could modify the `initialize_inventory` function to include error handling.\n",
    "   - If the user enters an invalid quantity (e.g., a negative value or a non-numeric value), display an error message and ask them to re-enter the quantity for that product.\n",
    "   - Use a try-except block to handle the error and continue prompting the user until a valid quantity is entered.\n",
    "\n",
    "```python\n",
    "# Step 1: Define the function for initializing the inventory with error handling\n",
    "def initialize_inventory(products):\n",
    "    inventory = {}\n",
    "    for product in products:\n",
    "        valid_quantity = False\n",
    "        while not valid_quantity:\n",
    "            try:\n",
    "                quantity = int(input(f\"Enter the quantity of {product}s available: \"))\n",
    "                if quantity < 0:\n",
    "                    raise ValueError(\"Invalid quantity! Please enter a non-negative value.\")\n",
    "                valid_quantity = True\n",
    "            except ValueError as error:\n",
    "                print(f\"Error: {error}\")\n",
    "        inventory[product] = quantity\n",
    "    return inventory\n",
    "\n",
    "# Or, in another way:\n",
    "\n",
    "def initialize_inventory(products):\n",
    "    inventory = {}\n",
    "    for product in products:\n",
    "        valid_input = False\n",
    "        while not valid_input:\n",
    "            try:\n",
    "                quantity = int(input(f\"Enter the quantity of {product}s available: \"))\n",
    "                if quantity >= 0:\n",
    "                    inventory[product] = quantity\n",
    "                    valid_input = True\n",
    "                else:\n",
    "                    print(\"Quantity cannot be negative. Please enter a valid quantity.\")\n",
    "            except ValueError:\n",
    "                print(\"Invalid input. Please enter a valid quantity.\")\n",
    "    return inventory\n",
    "```\n",
    "\n",
    "Let's enhance your code by implementing error handling to handle invalid inputs.\n",
    "\n",
    "Follow the steps below to complete the exercise:\n",
    "\n",
    "2. Modify the `calculate_total_price` function to include error handling.\n",
    "   - If the user enters an invalid price (e.g., a negative value or a non-numeric value), display an error message and ask them to re-enter the price for that product.\n",
    "   - Use a try-except block to handle the error and continue prompting the user until a valid price is entered.\n",
    "\n",
    "3. Modify the `get_customer_orders` function to include error handling.\n",
    "   - If the user enters an invalid number of orders (e.g., a negative value or a non-numeric value), display an error message and ask them to re-enter the number of orders.\n",
    "   - If the user enters an invalid product name (e.g., a product name that is not in the inventory), or that doesn't have stock available, display an error message and ask them to re-enter the product name. *Hint: you will need to pass inventory as a parameter*\n",
    "   - Use a try-except block to handle the error and continue prompting the user until a valid product name is entered.\n",
    "\n",
    "4. Test your code by running the program and deliberately entering invalid quantities and product names. Make sure the error handling mechanism works as expected.\n"
   ]
  },
  {
   "cell_type": "code",
   "execution_count": 1,
   "id": "bfbfe3f9",
   "metadata": {},
   "outputs": [],
   "source": [
    "products = [\"t-shirt\", \"mug\", \"hat\", \"book\", \"keychain\"]\n",
    "inventory = {}\n",
    "customer_orders = {}\n",
    "order = {}"
   ]
  },
  {
   "cell_type": "code",
   "execution_count": 2,
   "id": "d06f61da",
   "metadata": {
    "scrolled": true
   },
   "outputs": [
    {
     "name": "stdout",
     "output_type": "stream",
     "text": [
      "Introduce la cantidad de t-shirt disponible: 5\n",
      "Introduce la cantidad de mug disponible: 5\n",
      "Introduce la cantidad de hat disponible: 5\n",
      "Introduce la cantidad de book disponible: 5\n",
      "Introduce la cantidad de keychain disponible: 5\n",
      "{'t-shirt': 5, 'mug': 5, 'hat': 5, 'book': 5, 'keychain': 5}\n"
     ]
    }
   ],
   "source": [
    "def verificador_input_int():\n",
    "    for product in products:\n",
    "        while True:\n",
    "            try:\n",
    "                cantidad = int(input(f\"Introduce la cantidad de {product} disponible: \"))\n",
    "                if cantidad > -1:\n",
    "                    inventory[product] = cantidad\n",
    "                    break\n",
    "                else:\n",
    "                    print(\"Por favor ingresa un número mayor o igual a cero.\")\n",
    "            except ValueError:\n",
    "                print(\"Por favor, ingresa un número entero válido.\")\n",
    "    \n",
    "    return inventory\n",
    "\n",
    "inventory = verificador_input_int()\n",
    "print(inventory)\n",
    "\n"
   ]
  },
  {
   "cell_type": "code",
   "execution_count": 5,
   "id": "47b3e9fc",
   "metadata": {},
   "outputs": [
    {
     "name": "stdout",
     "output_type": "stream",
     "text": [
      "Selecciona la cantidad de t-shirt: 1\n",
      "Selecciona la cantidad de mug: -1\n",
      "Por favor, ingresa un número entero válido.\n",
      "Selecciona la cantidad de mug: perro\n",
      "Por favor, ingresa un número entero válido.\n",
      "Selecciona la cantidad de mug: 1\n",
      "Selecciona la cantidad de hat: 2\n",
      "Selecciona la cantidad de book: 0\n",
      "Selecciona la cantidad de keychain: 1\n"
     ]
    }
   ],
   "source": [
    "def get_customers_orders():\n",
    "    for product in products:\n",
    "        while True:\n",
    "            try:\n",
    "                cantidad = int(input(f\"Selecciona la cantidad de {product}: \"))\n",
    "                if cantidad >= 0:\n",
    "                    if int(cantidad) > inventory[product]:\n",
    "                        print(f\"No tenemos suficiente stock, selecciona una cantidad menor o igual a {inventory[product]}\")\n",
    "                    else:\n",
    "                        order[product] = cantidad\n",
    "                        break \n",
    "                else:\n",
    "                    print(\"Por favor, ingresa un número entero válido.\")\n",
    "            except ValueError:\n",
    "                print(\"Por favor, ingresa un número entero válido.\")\n",
    "    return order\n",
    "    \n",
    "orders = get_customers_orders()"
   ]
  },
  {
   "cell_type": "code",
   "execution_count": 13,
   "id": "c3192f25",
   "metadata": {},
   "outputs": [
    {
     "name": "stdout",
     "output_type": "stream",
     "text": [
      "Ingresa el precio de t-shirt: 1\n",
      "Ingresa el precio de mug: 2\n",
      "Ingresa el precio de hat: 3\n",
      "Ingresa el precio de book: 4\n",
      "Ingresa el precio de keychain: 5.4\n",
      "15.4\n"
     ]
    }
   ],
   "source": [
    "def calculate_total_price():\n",
    "    order_price = {}\n",
    "    for product in products:\n",
    "        while True:\n",
    "            try:\n",
    "                precio = float(input(f\"Ingresa el precio de {product}: \"))\n",
    "                if precio <= 0:\n",
    "                    print(\"ingresa un valor positivo\")\n",
    "                else:\n",
    "                    order_price[product] = precio\n",
    "                    break\n",
    "            except ValueError:\n",
    "                print(\"Por favor, ingresa un número entero válido.\")\n",
    "                \n",
    "    total_price = sum(order_price.values())\n",
    "    return total_price, order_price\n",
    "\n",
    "total_price, order_price = calculate_total_price()\n",
    "print(total_price)\n",
    "                \n",
    "                    "
   ]
  },
  {
   "cell_type": "code",
   "execution_count": null,
   "id": "6fa40e18",
   "metadata": {},
   "outputs": [],
   "source": []
  },
  {
   "cell_type": "code",
   "execution_count": null,
   "id": "e5294560",
   "metadata": {},
   "outputs": [],
   "source": []
  },
  {
   "cell_type": "code",
   "execution_count": null,
   "id": "fefb18c9",
   "metadata": {},
   "outputs": [],
   "source": []
  },
  {
   "cell_type": "code",
   "execution_count": null,
   "id": "b42a4175",
   "metadata": {},
   "outputs": [],
   "source": []
  },
  {
   "cell_type": "code",
   "execution_count": null,
   "id": "149d2586",
   "metadata": {},
   "outputs": [],
   "source": []
  },
  {
   "cell_type": "code",
   "execution_count": null,
   "id": "7aa07c5e",
   "metadata": {},
   "outputs": [],
   "source": []
  },
  {
   "cell_type": "code",
   "execution_count": null,
   "id": "94516fb1",
   "metadata": {},
   "outputs": [],
   "source": []
  },
  {
   "cell_type": "code",
   "execution_count": null,
   "id": "f3a49c93",
   "metadata": {},
   "outputs": [],
   "source": []
  }
 ],
 "metadata": {
  "kernelspec": {
   "display_name": "Python 3 (ipykernel)",
   "language": "python",
   "name": "python3"
  },
  "language_info": {
   "codemirror_mode": {
    "name": "ipython",
    "version": 3
   },
   "file_extension": ".py",
   "mimetype": "text/x-python",
   "name": "python",
   "nbconvert_exporter": "python",
   "pygments_lexer": "ipython3",
   "version": "3.11.5"
  }
 },
 "nbformat": 4,
 "nbformat_minor": 5
}
