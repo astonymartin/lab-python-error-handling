{
 "cells": [
  {
   "cell_type": "markdown",
   "id": "25d7736c-ba17-4aff-b6bb-66eba20fbf4e",
   "metadata": {},
   "source": [
    "# Lab | Error Handling"
   ]
  },
  {
   "cell_type": "markdown",
   "id": "bc99b386-7508-47a0-bcdb-d969deaf6c8b",
   "metadata": {},
   "source": [
    "## Exercise: Error Handling for Managing Customer Orders\n",
    "\n",
    "The implementation of your code for managing customer orders assumes that the user will always enter a valid input. \n",
    "\n",
    "For example, we could modify the `initialize_inventory` function to include error handling.\n",
    "   - If the user enters an invalid quantity (e.g., a negative value or a non-numeric value), display an error message and ask them to re-enter the quantity for that product.\n",
    "   - Use a try-except block to handle the error and continue prompting the user until a valid quantity is entered.\n",
    "\n",
    "```python\n",
    "# Step 1: Define the function for initializing the inventory with error handling\n",
    "def initialize_inventory(products):\n",
    "    inventory = {}\n",
    "    for product in products:\n",
    "        valid_quantity = False\n",
    "        while not valid_quantity:\n",
    "            try:\n",
    "                quantity = int(input(f\"Enter the quantity of {product}s available: \"))\n",
    "                if quantity < 0:\n",
    "                    raise ValueError(\"Invalid quantity! Please enter a non-negative value.\")\n",
    "                valid_quantity = True\n",
    "            except ValueError as error:\n",
    "                print(f\"Error: {error}\")\n",
    "        inventory[product] = quantity\n",
    "    return inventory\n",
    "\n",
    "# Or, in another way:\n",
    "\n",
    "def initialize_inventory(products):\n",
    "    inventory = {}\n",
    "    for product in products:\n",
    "        valid_input = False\n",
    "        while not valid_input:\n",
    "            try:\n",
    "                quantity = int(input(f\"Enter the quantity of {product}s available: \"))\n",
    "                if quantity >= 0:\n",
    "                    inventory[product] = quantity\n",
    "                    valid_input = True\n",
    "                else:\n",
    "                    print(\"Quantity cannot be negative. Please enter a valid quantity.\")\n",
    "            except ValueError:\n",
    "                print(\"Invalid input. Please enter a valid quantity.\")\n",
    "    return inventory\n",
    "```\n",
    "\n",
    "Let's enhance your code by implementing error handling to handle invalid inputs.\n",
    "\n",
    "Follow the steps below to complete the exercise:\n",
    "\n",
    "2. Modify the `calculate_total_price` function to include error handling.\n",
    "   - If the user enters an invalid price (e.g., a negative value or a non-numeric value), display an error message and ask them to re-enter the price for that product.\n",
    "   - Use a try-except block to handle the error and continue prompting the user until a valid price is entered.\n",
    "\n",
    "3. Modify the `get_customer_orders` function to include error handling.\n",
    "   - If the user enters an invalid number of orders (e.g., a negative value or a non-numeric value), display an error message and ask them to re-enter the number of orders.\n",
    "   - If the user enters an invalid product name (e.g., a product name that is not in the inventory), or that doesn't have stock available, display an error message and ask them to re-enter the product name. *Hint: you will need to pass inventory as a parameter*\n",
    "   - Use a try-except block to handle the error and continue prompting the user until a valid product name is entered.\n",
    "\n",
    "4. Test your code by running the program and deliberately entering invalid quantities and product names. Make sure the error handling mechanism works as expected.\n"
   ]
  },
  {
   "cell_type": "code",
   "execution_count": 1,
   "id": "bfbfe3f9",
   "metadata": {},
   "outputs": [],
   "source": [
    "products = [\"t-shirt\", \"mug\", \"hat\", \"book\", \"keychain\"]\n",
    "inventory = {}\n",
    "customer_orders = {}\n",
    "order = {}"
   ]
  },
  {
   "cell_type": "code",
   "execution_count": null,
   "id": "d06f61da",
   "metadata": {},
   "outputs": [
    {
     "name": "stdout",
     "output_type": "stream",
     "text": [
      "Introduce la cantidad de t-shirt disponible: 0\n",
      "Introduce la cantidad de mug disponible: -1\n",
      "Introduce la cantidad de hat disponible: perro\n",
      "Por favor, ingresa un número entero válido.\n"
     ]
    }
   ],
   "source": [
    "def verificador_input_int():\n",
    "    while True:\n",
    "        try:\n",
    "            inventory = {product: int(input(f\"Introduce la cantidad de {product} disponible: \")) for product in products}\n",
    "            if inventory[product] < 0:\n",
    "            print(\"por favor ingresa un numero positivo\")\n",
    "            return inventory\n",
    "        except ValueError :\n",
    "            print(\"Por favor, ingresa un número entero válido.\")\n",
    "        except inventory[product] < 0:\n",
    "            print(\"por favor ingresa un numero positivo\")\n",
    "\n",
    "inventory = verificador_input_int()\n",
    "print(inventory)"
   ]
  },
  {
   "cell_type": "code",
   "execution_count": 3,
   "id": "47b3e9fc",
   "metadata": {},
   "outputs": [
    {
     "name": "stdout",
     "output_type": "stream",
     "text": [
      "Selecciona la cantidad de t-shirt: 3\n",
      "Selecciona la cantidad de mug: 2\n",
      "Selecciona la cantidad de hat: 1\n",
      "Selecciona la cantidad de book: 4\n",
      "Selecciona la cantidad de keychain: 5\n"
     ]
    }
   ],
   "source": [
    "def get_customers_orders():\n",
    "    order = {}\n",
    "    for product in products:\n",
    "        while True:\n",
    "            try:\n",
    "                cantidad = input(f\"Selecciona la cantidad de {product}: \")\n",
    "                if int(cantidad) > inventory[product]:\n",
    "                    print(f\"No tenemos suficiente stock, selecciona una cantidad menor o igual a {inventory[product]}\")\n",
    "                else:\n",
    "                    order[product] = int(cantidad)\n",
    "                    break \n",
    "            except ValueError:\n",
    "                print(\"Por favor, ingresa un número entero válido.\")\n",
    "    return order\n",
    "    \n",
    "orders = get_customers_orders()"
   ]
  },
  {
   "cell_type": "code",
   "execution_count": null,
   "id": "9ef87fef",
   "metadata": {},
   "outputs": [],
   "source": [
    "def calculate_total_price():\n",
    "    order_price = {product: float(input(f\"Ingresa el precio de {product}: \")) for product in products}\n",
    "    total_price = sum(order_price.values())\n",
    "    return total_price, order_price\n",
    "\n",
    "total_price, order_price = calculate_total_price()"
   ]
  },
  {
   "cell_type": "code",
   "execution_count": 19,
   "id": "974c94b2",
   "metadata": {},
   "outputs": [
    {
     "name": "stdout",
     "output_type": "stream",
     "text": [
      "Ingresa el precio de t-shirt: 5\n",
      "Ingresa el precio de mug: 0\n",
      "ingresa un valor positivo\n",
      "Ingresa el precio de mug: hat\n",
      "Ingresa un precio valido: could not convert string to float: 'hat'\n"
     ]
    }
   ],
   "source": [
    "def calculate_total_price():\n",
    "    order_price = {}\n",
    "    try:\n",
    "        for product in products:\n",
    "            precio = float(input(f\"Ingresa el precio de {product}: \"))\n",
    "            while precio <= 0:\n",
    "                print(\"ingresa un valor positivo\")\n",
    "                precio = float(input(f\"Ingresa el precio de {product}: \"))\n",
    "            order_price[product] = precio\n",
    "            \n",
    "    except Exception as error:\n",
    "        print(f\"Ingresa un precio valido: {error}\")\n",
    "        \n",
    "        \n",
    "    total_price = sum(order_price.values())\n",
    "    return total_price, order_price\n",
    "\n",
    "total_price, order_price = calculate_total_price()"
   ]
  },
  {
   "cell_type": "code",
   "execution_count": null,
   "id": "2e44ee96",
   "metadata": {},
   "outputs": [
    {
     "name": "stdout",
     "output_type": "stream",
     "text": [
      "Ingresa el precio de producto1: 5\n"
     ]
    }
   ],
   "source": [
    "def calculate_total_price():\n",
    "    order_price = {}\n",
    "    try:\n",
    "        for product in products:\n",
    "            precio = float(input(f\"Ingresa el precio de {product}: \"))\n",
    "            while precio <= 0:\n",
    "                print(\"Ingresa un valor positivo.\")\n",
    "                precio = float(input(f\"Ingresa el precio de {product}: \"))\n",
    "            \n",
    "            order_price[product] = precio\n",
    "   \n",
    "    except ValueError as error:\n",
    "        print(f\"Ingresa un precio válido: {error}\")\n",
    "        return None, None\n",
    "        \n",
    "    total_price = sum(order_price.values())\n",
    "    return total_price, order_price\n",
    "\n",
    "\n",
    "total_price, order_price = calculate_total_price()\n",
    "\n",
    "if total_price is not None and order_price is not None:\n",
    "    print(f\"El precio total es: {total_price}\")\n",
    "    print(\"Detalles de la orden:\")\n",
    "    for product, price in order_price.items():\n",
    "        print(f\"{product}: {price}\")\n"
   ]
  },
  {
   "cell_type": "code",
   "execution_count": null,
   "id": "e5294560",
   "metadata": {},
   "outputs": [],
   "source": []
  },
  {
   "cell_type": "code",
   "execution_count": null,
   "id": "f65ca8a9",
   "metadata": {},
   "outputs": [],
   "source": [
    "def update_inventory(inventory, orders):\n",
    "    for key in orders.keys():\n",
    "        if key in inventory:\n",
    "            inventory[key] = inventory[key] - orders[key]\n",
    "            if inventory[key] == 0:\n",
    "                del inventory[key]\n",
    "        else:\n",
    "            print(f\"El producto {key} no está en el inventario.\")\n",
    "    \n",
    "    return inventory\n",
    "update_inventory(inventory, orders)"
   ]
  },
  {
   "cell_type": "code",
   "execution_count": null,
   "id": "85e796b5",
   "metadata": {},
   "outputs": [],
   "source": [
    "def precio_total():\n",
    "    total = 0\n",
    "    for key, value in orders.items():\n",
    "        precio = orders[key] * order_price[key]\n",
    "        total += precio\n",
    "    print(\"Precio total:\", total)\n",
    "    return total\n",
    "\n",
    "precio_total()"
   ]
  },
  {
   "cell_type": "code",
   "execution_count": null,
   "id": "6ca71b23",
   "metadata": {},
   "outputs": [],
   "source": [
    "def precio_total():\n",
    "    total = sum(orders[key] * order_price[key] for key, value in orders.items())\n",
    "    print(\"Precio total:\", total)\n",
    "    return total\n",
    "\n",
    "precio_total()\n"
   ]
  },
  {
   "cell_type": "code",
   "execution_count": null,
   "id": "fefb18c9",
   "metadata": {},
   "outputs": [],
   "source": []
  },
  {
   "cell_type": "code",
   "execution_count": null,
   "id": "b42a4175",
   "metadata": {},
   "outputs": [],
   "source": []
  },
  {
   "cell_type": "code",
   "execution_count": null,
   "id": "149d2586",
   "metadata": {},
   "outputs": [],
   "source": []
  },
  {
   "cell_type": "code",
   "execution_count": null,
   "id": "7aa07c5e",
   "metadata": {},
   "outputs": [],
   "source": []
  },
  {
   "cell_type": "code",
   "execution_count": null,
   "id": "94516fb1",
   "metadata": {},
   "outputs": [],
   "source": []
  },
  {
   "cell_type": "code",
   "execution_count": null,
   "id": "f3a49c93",
   "metadata": {},
   "outputs": [],
   "source": []
  }
 ],
 "metadata": {
  "kernelspec": {
   "display_name": "Python 3 (ipykernel)",
   "language": "python",
   "name": "python3"
  },
  "language_info": {
   "codemirror_mode": {
    "name": "ipython",
    "version": 3
   },
   "file_extension": ".py",
   "mimetype": "text/x-python",
   "name": "python",
   "nbconvert_exporter": "python",
   "pygments_lexer": "ipython3",
   "version": "3.11.5"
  }
 },
 "nbformat": 4,
 "nbformat_minor": 5
}
